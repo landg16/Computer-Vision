{
  "nbformat": 4,
  "nbformat_minor": 0,
  "metadata": {
    "accelerator": "GPU",
    "colab": {
      "name": "Category_Training.ipynb",
      "provenance": [],
      "collapsed_sections": []
    },
    "kernelspec": {
      "display_name": "Python 3",
      "language": "python",
      "name": "python3"
    },
    "language_info": {
      "codemirror_mode": {
        "name": "ipython",
        "version": 3
      },
      "file_extension": ".py",
      "mimetype": "text/x-python",
      "name": "python",
      "nbconvert_exporter": "python",
      "pygments_lexer": "ipython3",
      "version": "3.7.3"
    }
  },
  "cells": [
    {
      "cell_type": "code",
      "metadata": {
        "id": "FSPY2vCxDjXW",
        "colab_type": "code",
        "colab": {
          "base_uri": "https://localhost:8080/",
          "height": 122
        },
        "outputId": "72d90a37-f4aa-4456-8b7b-c54c35fcd638"
      },
      "source": [
        "from google.colab import drive\n",
        "drive.mount('/content/drive')"
      ],
      "execution_count": null,
      "outputs": [
        {
          "output_type": "stream",
          "text": [
            "Go to this URL in a browser: https://accounts.google.com/o/oauth2/auth?client_id=947318989803-6bn6qk8qdgf4n4g3pfee6491hc0brc4i.apps.googleusercontent.com&redirect_uri=urn%3aietf%3awg%3aoauth%3a2.0%3aoob&response_type=code&scope=email%20https%3a%2f%2fwww.googleapis.com%2fauth%2fdocs.test%20https%3a%2f%2fwww.googleapis.com%2fauth%2fdrive%20https%3a%2f%2fwww.googleapis.com%2fauth%2fdrive.photos.readonly%20https%3a%2f%2fwww.googleapis.com%2fauth%2fpeopleapi.readonly\n",
            "\n",
            "Enter your authorization code:\n",
            "··········\n",
            "Mounted at /content/drive\n"
          ],
          "name": "stdout"
        }
      ]
    },
    {
      "cell_type": "code",
      "metadata": {
        "colab_type": "code",
        "id": "UapETHKnzbyu",
        "colab": {}
      },
      "source": [
        "import os\n",
        "import matplotlib.pyplot as plt\n",
        "import copy\n",
        "import time\n",
        "\n",
        "import torch\n",
        "from torch import nn\n",
        "from torch.utils.data import Dataset, DataLoader\n",
        "import torch.optim as optim\n",
        "from torch.optim import lr_scheduler\n",
        "from torchvision import transforms, utils\n",
        "from torchvision import datasets, models, transforms\n",
        "torch.__version__\n",
        "\n",
        "import pandas as pd\n",
        "import numpy as np\n",
        "from PIL import Image\n",
        "from skimage import io, transform"
      ],
      "execution_count": null,
      "outputs": []
    },
    {
      "cell_type": "code",
      "metadata": {
        "colab_type": "code",
        "id": "DFnDJJy3zi0L",
        "colab": {}
      },
      "source": [
        "device = \"cpu\"\n",
        "if torch.cuda.is_available():\n",
        "    device = \"cuda:0\"\n",
        "\n",
        "!unzip '/content/drive/My Drive/Vision/category_imgs.zip'\n",
        "\n",
        "train_data = pd.read_csv('/content/drive/My Drive/Vision/train/category_train.csv')\n",
        "test_data = pd.read_csv('/content/drive/My Drive/Vision/test/category_test.csv')"
      ],
      "execution_count": null,
      "outputs": []
    },
    {
      "cell_type": "code",
      "metadata": {
        "colab_type": "code",
        "id": "fdg277zmzoUv",
        "colab": {}
      },
      "source": [
        "Category = np.array(train_data.Category.unique())\n",
        "\n",
        "class Dataset_Category(Dataset):\n",
        "    def __init__(self, csv_file):\n",
        "        self.data = pd.read_csv(csv_file)\n",
        "        self.category = Category\n",
        "\n",
        "    def __len__(self):\n",
        "        return len(self.data)\n",
        "\n",
        "    def __getitem__(self, idx):\n",
        "        if torch.is_tensor(idx):\n",
        "            idx = idx.tolist()\n",
        "            \n",
        "        path = \"/content/category_imgs/{}\".format(self.data.iloc[idx].img_path[1:].replace('/', '-'))\n",
        "        image = transform.resize(io.imread(path), (224, 224))/255\n",
        "        image = image[:, :, :3]\n",
        "        \n",
        "        y = np.where(self.category == self.data.iloc[idx].Category)[0]\n",
        "        sample = (torch.Tensor(np.einsum('ijk->kij',image)), torch.Tensor(y).long())\n",
        "\n",
        "        return sample"
      ],
      "execution_count": null,
      "outputs": []
    },
    {
      "cell_type": "code",
      "metadata": {
        "id": "I209fT9EE0xW",
        "colab_type": "code",
        "colab": {
          "base_uri": "https://localhost:8080/",
          "height": 34
        },
        "outputId": "d8b1c2ab-199e-4bda-ff87-e9a523fc633a"
      },
      "source": [
        "Category"
      ],
      "execution_count": null,
      "outputs": [
        {
          "output_type": "execute_result",
          "data": {
            "text/plain": [
              "array(['Coupe', 'Sedan', 'Jeep', 'Hatchback'], dtype=object)"
            ]
          },
          "metadata": {
            "tags": []
          },
          "execution_count": 29
        }
      ]
    },
    {
      "cell_type": "code",
      "metadata": {
        "colab_type": "code",
        "id": "rFzmi1XZ0Ek7",
        "colab": {}
      },
      "source": [
        "batch_size = 4\n",
        "train = Dataset_Category('/content/drive/My Drive/Vision/train/category_train.csv')\n",
        "val = Dataset_Category('/content/drive/My Drive/Vision/test/category_test.csv')\n",
        "\n",
        "train_loader = DataLoader(train, batch_size=batch_size,shuffle=True, num_workers=4)\n",
        "val_loader = DataLoader(val, batch_size=batch_size,shuffle=True, num_workers=4)\n",
        "\n",
        "dataloaders = {'train': train_loader, 'val': val_loader}\n",
        "dataset_sizes = {'train': len(train_loader), 'val': len(val_loader)}"
      ],
      "execution_count": null,
      "outputs": []
    },
    {
      "cell_type": "code",
      "metadata": {
        "colab_type": "code",
        "id": "hhDb6-3p0LZn",
        "colab": {}
      },
      "source": [
        "class model_init(nn.Module):\n",
        "    def __init__(self):\n",
        "        super(model_init, self).__init__()\n",
        "        self.layers = nn.ModuleList()\n",
        "        self.layers.append(models.resnet18(pretrained=True))\n",
        "        self.layers.append(nn.Linear(1000, 256)) \n",
        "        self.layers.append(nn.Dropout(0.1))\n",
        "        self.layers.append(nn.Linear(256, 64))\n",
        "        self.layers.append(nn.Sigmoid())\n",
        "        self.layers.append(nn.Dropout(0.1))\n",
        "        self.layers.append(nn.Linear(64, 4))\n",
        "        self.layers.append(nn.Softmax())\n",
        "    \n",
        "    def forward(self, x):\n",
        "        for layer in self.layers:\n",
        "            x = layer(x)\n",
        "        return x"
      ],
      "execution_count": null,
      "outputs": []
    },
    {
      "cell_type": "code",
      "metadata": {
        "id": "j_1aderiDWxG",
        "colab_type": "code",
        "colab": {}
      },
      "source": [
        "def train_helper(category, model, optimization, judge, timeout):\n",
        "    if category == 'train':\n",
        "        model.train()\n",
        "    else:\n",
        "        model.eval()\n",
        "\n",
        "    loss_tmp = 0.0\n",
        "    correct_tmp = 0\n",
        "    step = 0\n",
        "    for inputs, labels in dataloaders[category]:\n",
        "        step += 1\n",
        "        if step%500 == 0:\n",
        "          print('acc: {}'.format(correct_tmp.double()/step/4))\n",
        "        inputs = inputs.to(device)\n",
        "        labels = labels.to(device)\n",
        "        labels = labels.reshape((labels.shape[0]))\n",
        "        optimization.zero_grad()\n",
        "\n",
        "        with torch.set_grad_enabled(category == 'train'):\n",
        "            outputs = model(inputs)\n",
        "            preds = torch.argmax(outputs, 1)\n",
        "            loss = judge(outputs, labels.reshape((-1,)))\n",
        "\n",
        "            if category == 'train':\n",
        "                loss.backward()\n",
        "                optimization.step()\n",
        "\n",
        "        # statistics\n",
        "        loss_tmp += loss.item() * inputs.size(0)\n",
        "        correct_tmp += torch.sum(preds == labels.data)\n",
        "    if category == 'train':\n",
        "        timeout.step()\n",
        "\n",
        "    epoch_loss = loss_tmp / dataset_sizes[category]\n",
        "    epoch_acc = correct_tmp.double() / dataset_sizes[category]\n",
        "\n",
        "    print('{} Loss: {:.4f} Accuracy: {:.4f}'.format(category, epoch_loss, epoch_acc/batch_size))\n",
        "    \n",
        "    return epoch_acc, copy.deepcopy(model.state_dict())"
      ],
      "execution_count": null,
      "outputs": []
    },
    {
      "cell_type": "code",
      "metadata": {
        "colab_type": "code",
        "id": "Pykv1ws90OyQ",
        "colab": {}
      },
      "source": [
        "def train_model(model, judge, optimization, timeout, epochs=20):\n",
        "    best_model_wts = copy.deepcopy(model.state_dict())\n",
        "    best_accuracy = 0.0\n",
        "\n",
        "    for epoch in range(epochs):\n",
        "        print('Epoch {}/{}'.format(epoch + 1, epochs))\n",
        "        print('-----------------------------------------')\n",
        "        train_helper('train', model, optimization, judge, timeout)\n",
        "        accuracy_tmp, weight_tmp = train_helper('val', model, optimization, judge, timeout)\n",
        "        if accuracy_tmp > best_accuracy:\n",
        "            best_accuracy = accuracy_tmp\n",
        "            best_model_weights = weight_tmp\n",
        "\n",
        "        print()\n",
        "        \n",
        "    print('Best val Acc: {:4f}'.format(best_accuracy))\n",
        "\n",
        "    # load best model weights\n",
        "    model.load_state_dict(best_model_wts)\n",
        "    return model"
      ],
      "execution_count": null,
      "outputs": []
    },
    {
      "cell_type": "code",
      "metadata": {
        "colab_type": "code",
        "id": "ZATitI550RtY",
        "colab": {}
      },
      "source": [
        "criterion = nn.CrossEntropyLoss()\n",
        "model = model_init()\n",
        "model.to(device)\n",
        "\n",
        "optimizer = optim.SGD(model.parameters(), lr=0.003, momentum=0.9)\n",
        "exp_lr_scheduler = lr_scheduler.StepLR(optimizer, step_size=3, gamma=0.5)"
      ],
      "execution_count": null,
      "outputs": []
    },
    {
      "cell_type": "code",
      "metadata": {
        "colab_type": "code",
        "id": "LjdCdLYv0U9d",
        "colab": {
          "base_uri": "https://localhost:8080/",
          "height": 1000
        },
        "outputId": "75dd8a3f-7bcb-4dbe-f3dc-20389f2cd746"
      },
      "source": [
        "model = train_model(model, criterion, optimizer, exp_lr_scheduler, epochs=7)"
      ],
      "execution_count": null,
      "outputs": [
        {
          "output_type": "stream",
          "text": [
            "Epoch 1/7\n",
            "-----------------------------------------\n"
          ],
          "name": "stdout"
        },
        {
          "output_type": "stream",
          "text": [
            "/usr/local/lib/python3.6/dist-packages/ipykernel_launcher.py:16: UserWarning: Implicit dimension choice for softmax has been deprecated. Change the call to include dim=X as an argument.\n",
            "  app.launch_new_instance()\n"
          ],
          "name": "stderr"
        },
        {
          "output_type": "stream",
          "text": [
            "acc: 0.47050000000000003\n",
            "acc: 0.48925\n",
            "acc: 0.49966666666666665\n",
            "acc: 0.507\n",
            "acc: 0.5126000000000001\n",
            "acc: 0.5175\n",
            "acc: 0.5232857142857144\n",
            "acc: 0.5261250000000001\n",
            "acc: 0.5306666666666667\n",
            "acc: 0.53245\n",
            "acc: 0.533590909090909\n",
            "acc: 0.5359583333333333\n",
            "acc: 0.5393076923076924\n",
            "acc: 0.5433571428571429\n",
            "acc: 0.5487000000000001\n",
            "acc: 0.5509375\n",
            "acc: 0.5542058823529412\n",
            "acc: 0.5564444444444445\n",
            "acc: 0.5598684210526316\n",
            "acc: 0.563625\n",
            "acc: 0.5668809523809524\n",
            "acc: 0.5703181818181818\n",
            "train Loss: 4.6602 Accuracy: 0.5719\n",
            "acc: 0.6815\n",
            "acc: 0.67675\n",
            "val Loss: 4.2518 Accuracy: 0.6776\n",
            "\n",
            "Epoch 2/7\n",
            "-----------------------------------------\n",
            "acc: 0.619\n",
            "acc: 0.62225\n",
            "acc: 0.6321666666666667\n",
            "acc: 0.6365000000000001\n",
            "acc: 0.6357\n",
            "acc: 0.6411666666666667\n",
            "acc: 0.6417857142857143\n",
            "acc: 0.64425\n",
            "acc: 0.6445555555555555\n",
            "acc: 0.6463\n",
            "acc: 0.6471818181818182\n",
            "acc: 0.6476666666666666\n",
            "acc: 0.6489615384615385\n",
            "acc: 0.6497142857142858\n",
            "acc: 0.6498666666666667\n",
            "acc: 0.649625\n",
            "acc: 0.6492058823529412\n",
            "acc: 0.6488055555555556\n",
            "acc: 0.6493947368421052\n",
            "acc: 0.649775\n",
            "acc: 0.6510714285714286\n",
            "acc: 0.6514772727272727\n",
            "train Loss: 4.3479 Accuracy: 0.6523\n",
            "acc: 0.655\n",
            "acc: 0.65475\n",
            "val Loss: 4.3265 Accuracy: 0.6564\n",
            "\n",
            "Epoch 3/7\n",
            "-----------------------------------------\n",
            "acc: 0.662\n",
            "acc: 0.66525\n",
            "acc: 0.6661666666666667\n",
            "acc: 0.663625\n",
            "acc: 0.6676000000000001\n",
            "acc: 0.6685833333333333\n",
            "acc: 0.6677857142857143\n",
            "acc: 0.6670625\n",
            "acc: 0.6645555555555556\n",
            "acc: 0.6627000000000001\n",
            "acc: 0.6606818181818181\n",
            "acc: 0.6625416666666667\n",
            "acc: 0.6633461538461539\n",
            "acc: 0.6640357142857143\n",
            "acc: 0.6652\n",
            "acc: 0.666875\n",
            "acc: 0.6681764705882353\n",
            "acc: 0.6696944444444445\n",
            "acc: 0.6701052631578948\n",
            "acc: 0.6716000000000001\n",
            "acc: 0.6723571428571429\n",
            "acc: 0.6718181818181818\n",
            "train Loss: 4.2662 Accuracy: 0.6727\n",
            "acc: 0.7055\n",
            "acc: 0.7105\n",
            "val Loss: 4.1128 Accuracy: 0.7112\n",
            "\n",
            "Epoch 4/7\n",
            "-----------------------------------------\n",
            "acc: 0.7145\n",
            "acc: 0.7202500000000001\n",
            "acc: 0.7146666666666667\n",
            "acc: 0.71425\n",
            "acc: 0.7165\n",
            "acc: 0.71975\n",
            "acc: 0.7205\n",
            "acc: 0.7218125\n",
            "acc: 0.7202777777777778\n",
            "acc: 0.72085\n",
            "acc: 0.7201363636363636\n",
            "acc: 0.7205416666666666\n",
            "acc: 0.7216538461538462\n",
            "acc: 0.7213214285714287\n",
            "acc: 0.7216666666666667\n",
            "acc: 0.7223437500000001\n",
            "acc: 0.7221764705882353\n",
            "acc: 0.7233611111111111\n",
            "acc: 0.722921052631579\n",
            "acc: 0.7227750000000001\n",
            "acc: 0.7224761904761905\n",
            "acc: 0.7223636363636363\n",
            "train Loss: 4.0725 Accuracy: 0.7226\n",
            "acc: 0.7345\n",
            "acc: 0.732\n",
            "val Loss: 4.0405 Accuracy: 0.7292\n",
            "\n",
            "Epoch 5/7\n",
            "-----------------------------------------\n",
            "acc: 0.75\n",
            "acc: 0.74875\n",
            "acc: 0.7476666666666666\n",
            "acc: 0.748125\n",
            "acc: 0.745\n",
            "acc: 0.7424999999999999\n",
            "acc: 0.7412142857142857\n",
            "acc: 0.740125\n",
            "acc: 0.7352777777777778\n",
            "acc: 0.7352000000000001\n",
            "acc: 0.7341818181818182\n",
            "acc: 0.7342916666666667\n",
            "acc: 0.7359230769230769\n",
            "acc: 0.7350000000000001\n",
            "acc: 0.7347666666666667\n",
            "acc: 0.73471875\n",
            "acc: 0.7356176470588236\n",
            "acc: 0.736\n",
            "acc: 0.7367105263157895\n",
            "acc: 0.7365750000000001\n",
            "acc: 0.736952380952381\n",
            "acc: 0.7371136363636364\n",
            "train Loss: 4.0168 Accuracy: 0.7372\n",
            "acc: 0.7595000000000001\n",
            "acc: 0.75175\n",
            "val Loss: 3.9674 Accuracy: 0.7500\n",
            "\n",
            "Epoch 6/7\n",
            "-----------------------------------------\n",
            "acc: 0.7635000000000001\n",
            "acc: 0.74725\n",
            "acc: 0.7513333333333333\n",
            "acc: 0.750375\n",
            "acc: 0.7511\n",
            "acc: 0.7538333333333334\n",
            "acc: 0.7552857142857143\n",
            "acc: 0.7560625\n",
            "acc: 0.7562222222222222\n",
            "acc: 0.75615\n",
            "acc: 0.7546818181818181\n",
            "acc: 0.7549583333333333\n",
            "acc: 0.7533461538461539\n",
            "acc: 0.7529642857142858\n",
            "acc: 0.7527\n",
            "acc: 0.7520625\n",
            "acc: 0.7526764705882353\n",
            "acc: 0.7511111111111112\n",
            "acc: 0.7509210526315789\n",
            "acc: 0.7516\n",
            "acc: 0.7520476190476191\n",
            "acc: 0.7519090909090909\n",
            "train Loss: 3.9600 Accuracy: 0.7521\n",
            "acc: 0.7385\n",
            "acc: 0.7365\n",
            "val Loss: 3.9950 Accuracy: 0.7410\n",
            "\n",
            "Epoch 7/7\n",
            "-----------------------------------------\n",
            "acc: 0.774\n",
            "acc: 0.7675000000000001\n",
            "acc: 0.7696666666666666\n",
            "acc: 0.7691250000000001\n",
            "acc: 0.7694000000000001\n",
            "acc: 0.7700833333333333\n",
            "acc: 0.7697142857142858\n",
            "acc: 0.769\n",
            "acc: 0.7684444444444445\n",
            "acc: 0.7676000000000001\n",
            "acc: 0.7671363636363636\n",
            "acc: 0.767625\n",
            "acc: 0.7683461538461539\n",
            "acc: 0.7691071428571429\n",
            "acc: 0.7689333333333334\n",
            "acc: 0.76934375\n",
            "acc: 0.7696176470588235\n",
            "acc: 0.7694444444444445\n",
            "acc: 0.7690526315789474\n",
            "acc: 0.76915\n",
            "acc: 0.7697142857142857\n",
            "acc: 0.7703636363636364\n",
            "train Loss: 3.8847 Accuracy: 0.7706\n",
            "acc: 0.7585000000000001\n",
            "acc: 0.75825\n",
            "val Loss: 3.9331 Accuracy: 0.7578\n",
            "\n",
            "Best val Acc: 3.031200\n"
          ],
          "name": "stdout"
        }
      ]
    },
    {
      "cell_type": "code",
      "metadata": {
        "colab_type": "code",
        "id": "-7qp_GEU1cAr",
        "scrolled": true,
        "colab": {}
      },
      "source": [
        "torch.save(model.state_dict(), '/content/drive/My Drive/Vision/models/category_model.pt')"
      ],
      "execution_count": null,
      "outputs": []
    },
    {
      "cell_type": "code",
      "metadata": {
        "id": "DzQXfMOdDWxe",
        "colab_type": "code",
        "colab": {}
      },
      "source": [
        ""
      ],
      "execution_count": null,
      "outputs": []
    }
  ]
}