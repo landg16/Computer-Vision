{
  "nbformat": 4,
  "nbformat_minor": 0,
  "metadata": {
    "accelerator": "GPU",
    "colab": {
      "name": "Category_Training.ipynb",
      "provenance": [],
      "collapsed_sections": []
    },
    "kernelspec": {
      "display_name": "Python 3",
      "language": "python",
      "name": "python3"
    },
    "language_info": {
      "codemirror_mode": {
        "name": "ipython",
        "version": 3
      },
      "file_extension": ".py",
      "mimetype": "text/x-python",
      "name": "python",
      "nbconvert_exporter": "python",
      "pygments_lexer": "ipython3",
      "version": "3.7.3"
    }
  },
  "cells": [
    {
      "cell_type": "code",
      "metadata": {
        "id": "FSPY2vCxDjXW",
        "colab_type": "code",
        "colab": {
          "base_uri": "https://localhost:8080/",
          "height": 122
        },
        "outputId": "72d90a37-f4aa-4456-8b7b-c54c35fcd638"
      },
      "source": [
        "from google.colab import drive\n",
        "drive.mount('/content/drive')"
      ],
      "execution_count": 3,
      "outputs": [
        {
          "output_type": "stream",
          "text": [
            "Go to this URL in a browser: https://accounts.google.com/o/oauth2/auth?client_id=947318989803-6bn6qk8qdgf4n4g3pfee6491hc0brc4i.apps.googleusercontent.com&redirect_uri=urn%3aietf%3awg%3aoauth%3a2.0%3aoob&response_type=code&scope=email%20https%3a%2f%2fwww.googleapis.com%2fauth%2fdocs.test%20https%3a%2f%2fwww.googleapis.com%2fauth%2fdrive%20https%3a%2f%2fwww.googleapis.com%2fauth%2fdrive.photos.readonly%20https%3a%2f%2fwww.googleapis.com%2fauth%2fpeopleapi.readonly\n",
            "\n",
            "Enter your authorization code:\n",
            "··········\n",
            "Mounted at /content/drive\n"
          ],
          "name": "stdout"
        }
      ]
    },
    {
      "cell_type": "code",
      "metadata": {
        "colab_type": "code",
        "id": "UapETHKnzbyu",
        "colab": {}
      },
      "source": [
        "import os\n",
        "import matplotlib.pyplot as plt\n",
        "import copy\n",
        "import time\n",
        "\n",
        "import torch\n",
        "from torch import nn\n",
        "from torch.utils.data import Dataset, DataLoader\n",
        "import torch.optim as optim\n",
        "from torch.optim import lr_scheduler\n",
        "from torchvision import transforms, utils\n",
        "from torchvision import datasets, models, transforms\n",
        "torch.__version__\n",
        "\n",
        "import pandas as pd\n",
        "import numpy as np\n",
        "from PIL import Image\n",
        "from skimage import io, transform"
      ],
      "execution_count": 4,
      "outputs": []
    },
    {
      "cell_type": "code",
      "metadata": {
        "colab_type": "code",
        "id": "DFnDJJy3zi0L",
        "colab": {}
      },
      "source": [
        "device = \"cpu\"\n",
        "if torch.cuda.is_available():\n",
        "    device = \"cuda:0\"\n",
        "\n",
        "!unzip '/content/drive/My Drive/Vision/category_imgs.zip'\n",
        "\n",
        "train_data = pd.read_csv('/content/drive/My Drive/Vision/train/category_train.csv')\n",
        "test_data = pd.read_csv('/content/drive/My Drive/Vision/test/category_test.csv')"
      ],
      "execution_count": 8,
      "outputs": []
    },
    {
      "cell_type": "code",
      "metadata": {
        "colab_type": "code",
        "id": "fdg277zmzoUv",
        "colab": {}
      },
      "source": [
        "Category = np.array(data.Category.unique())\n",
        "\n",
        "class Dataset_Category(Dataset):\n",
        "    def __init__(self, csv_file):\n",
        "        self.data = pd.read_csv(csv_file)\n",
        "        self.category = Category\n",
        "\n",
        "    def __len__(self):\n",
        "        return len(self.data)\n",
        "\n",
        "    def __getitem__(self, idx):\n",
        "        if torch.is_tensor(idx):\n",
        "            idx = idx.tolist()\n",
        "            \n",
        "        path = \"/content/category_imgs/{}\".format(self.data.iloc[idx].img_path[1:].replace('/', '-'))\n",
        "        image = transform.resize(io.imread(path), (224, 224))/255\n",
        "        image = image[:, :, :3]\n",
        "        \n",
        "        y = np.where(self.category == self.data.iloc[idx].Category)[0]\n",
        "        sample = (torch.Tensor(np.einsum('ijk->kij',image)), torch.Tensor(y).long())\n",
        "\n",
        "        return sample"
      ],
      "execution_count": 28,
      "outputs": []
    },
    {
      "cell_type": "code",
      "metadata": {
        "id": "I209fT9EE0xW",
        "colab_type": "code",
        "colab": {
          "base_uri": "https://localhost:8080/",
          "height": 34
        },
        "outputId": "d8b1c2ab-199e-4bda-ff87-e9a523fc633a"
      },
      "source": [
        "Category"
      ],
      "execution_count": 29,
      "outputs": [
        {
          "output_type": "execute_result",
          "data": {
            "text/plain": [
              "array(['Coupe', 'Sedan', 'Jeep', 'Hatchback'], dtype=object)"
            ]
          },
          "metadata": {
            "tags": []
          },
          "execution_count": 29
        }
      ]
    },
    {
      "cell_type": "code",
      "metadata": {
        "colab_type": "code",
        "id": "rFzmi1XZ0Ek7",
        "colab": {}
      },
      "source": [
        "batch_size = 4\n",
        "train = Dataset_Category('/content/drive/My Drive/Vision/train/category_train.csv')\n",
        "val = Dataset_Category('/content/drive/My Drive/Vision/test/category_test.csv')\n",
        "\n",
        "train_loader = DataLoader(train, batch_size=batch_size,shuffle=True, num_workers=4)\n",
        "val_loader = DataLoader(val, batch_size=batch_size,shuffle=True, num_workers=4)\n",
        "\n",
        "dataloaders = {'train': train_loader, 'val': val_loader}\n",
        "dataset_sizes = {'train': len(train_loader), 'val': len(val_loader)}"
      ],
      "execution_count": 30,
      "outputs": []
    },
    {
      "cell_type": "code",
      "metadata": {
        "colab_type": "code",
        "id": "hhDb6-3p0LZn",
        "colab": {}
      },
      "source": [
        "class model_init(nn.Module):\n",
        "    def __init__(self):\n",
        "        super(model_init, self).__init__()\n",
        "        self.layers = nn.ModuleList()\n",
        "        self.layers.append(models.resnet18(pretrained=True))\n",
        "        self.layers.append(nn.Linear(1000, 512)) \n",
        "        self.layers.append(nn.Dropout(0.1))\n",
        "        self.layers.append(nn.Linear(512, 64))\n",
        "        self.layers.append(nn.Dropout(0.1))\n",
        "        self.layers.append(nn.Linear(64, 4))\n",
        "        self.layers.append(nn.Softmax())\n",
        "    \n",
        "    def forward(self, x):\n",
        "        for layer in self.layers:\n",
        "            x = layer(x)\n",
        "        return x"
      ],
      "execution_count": 31,
      "outputs": []
    },
    {
      "cell_type": "code",
      "metadata": {
        "id": "j_1aderiDWxG",
        "colab_type": "code",
        "colab": {}
      },
      "source": [
        "def train_helper(category, model, optimization, judge, timeout):\n",
        "    if category == 'train':\n",
        "        model.train()\n",
        "    else:\n",
        "        model.eval()\n",
        "\n",
        "    loss_tmp = 0.0\n",
        "    correct_tmp = 0\n",
        "\n",
        "    for inputs, labels in dataloaders[category]:\n",
        "        inputs = inputs.to(device)\n",
        "        labels = labels.to(device)\n",
        "        labels = labels.reshape((labels.shape[0]))\n",
        "        optimization.zero_grad()\n",
        "\n",
        "        with torch.set_grad_enabled(category == 'train'):\n",
        "            outputs = model(inputs)\n",
        "            preds = torch.argmax(outputs, 1)\n",
        "            loss = judge(outputs, labels.reshape((-1,)))\n",
        "\n",
        "            if category == 'train':\n",
        "                loss.backward()\n",
        "                optimization.step()\n",
        "\n",
        "        # statistics\n",
        "        loss_tmp += loss.item() * inputs.size(0)\n",
        "        correct_tmp += torch.sum(preds == labels.data)\n",
        "    if category == 'train':\n",
        "        timeout.step()\n",
        "\n",
        "    epoch_loss = loss_tmp / dataset_sizes[category]\n",
        "    epoch_acc = correct_tmp.double() / dataset_sizes[category]\n",
        "\n",
        "    print('{} Loss: {:.4f} Accuracy: {:.4f}'.format(category, epoch_loss, epoch_acc/batch_size))\n",
        "    \n",
        "    return epoch_acc, copy.deepcopy(model.state_dict())"
      ],
      "execution_count": 32,
      "outputs": []
    },
    {
      "cell_type": "code",
      "metadata": {
        "colab_type": "code",
        "id": "Pykv1ws90OyQ",
        "colab": {}
      },
      "source": [
        "def train_model(model, judge, optimization, timeout, epochs=20):\n",
        "    best_model_wts = copy.deepcopy(model.state_dict())\n",
        "    best_accuracy = 0.0\n",
        "\n",
        "    for epoch in range(epochs):\n",
        "        print('Epoch {}/{}'.format(epoch + 1, epochs))\n",
        "        print('-----------------------------------------')\n",
        "        train_helper('train', model, optimization, judge, timeout)\n",
        "        accuracy_tmp, weight_tmp = train_helper('val', model, optimization, judge, timeout)\n",
        "        if accuracy_tmp > best_accuracy:\n",
        "            best_accuracy = accuracy_tmp\n",
        "            best_model_weights = weight_tmp\n",
        "\n",
        "        print()\n",
        "        \n",
        "    print('Best val Acc: {:4f}'.format(best_accuracy))\n",
        "\n",
        "    # load best model weights\n",
        "    model.load_state_dict(best_model_wts)\n",
        "    return model"
      ],
      "execution_count": 33,
      "outputs": []
    },
    {
      "cell_type": "code",
      "metadata": {
        "colab_type": "code",
        "id": "ZATitI550RtY",
        "colab": {}
      },
      "source": [
        "criterion = nn.CrossEntropyLoss()\n",
        "model = model_init()\n",
        "model.to(device)\n",
        "\n",
        "optimizer = optim.SGD(model.parameters(), lr=0.003, momentum=0.9)\n",
        "exp_lr_scheduler = lr_scheduler.StepLR(optimizer, step_size=3, gamma=0.5)"
      ],
      "execution_count": 34,
      "outputs": []
    },
    {
      "cell_type": "code",
      "metadata": {
        "colab_type": "code",
        "id": "LjdCdLYv0U9d",
        "colab": {
          "base_uri": "https://localhost:8080/",
          "height": 190
        },
        "outputId": "164b1b9b-e258-4520-8b72-03544042fba9"
      },
      "source": [
        "model = train_model(model, criterion, optimizer, exp_lr_scheduler, epochs=7)"
      ],
      "execution_count": null,
      "outputs": [
        {
          "output_type": "stream",
          "text": [
            "Epoch 1/7\n",
            "-----------------------------------------\n"
          ],
          "name": "stdout"
        },
        {
          "output_type": "stream",
          "text": [
            "/usr/local/lib/python3.6/dist-packages/ipykernel_launcher.py:15: UserWarning: Implicit dimension choice for softmax has been deprecated. Change the call to include dim=X as an argument.\n",
            "  from ipykernel import kernelapp as app\n"
          ],
          "name": "stderr"
        },
        {
          "output_type": "stream",
          "text": [
            "train Loss: 5.0476 Accuracy: 0.4738\n",
            "val Loss: 5.2519 Accuracy: 0.4300\n",
            "\n",
            "Epoch 2/7\n",
            "-----------------------------------------\n"
          ],
          "name": "stdout"
        }
      ]
    },
    {
      "cell_type": "code",
      "metadata": {
        "colab_type": "code",
        "id": "-7qp_GEU1cAr",
        "scrolled": true,
        "colab": {}
      },
      "source": [
        "torch.save(model.state_dict(), '/content/drive/My Drive/Vision/models/category_model.pt')"
      ],
      "execution_count": null,
      "outputs": []
    },
    {
      "cell_type": "code",
      "metadata": {
        "id": "DzQXfMOdDWxe",
        "colab_type": "code",
        "colab": {}
      },
      "source": [
        ""
      ],
      "execution_count": null,
      "outputs": []
    }
  ]
}