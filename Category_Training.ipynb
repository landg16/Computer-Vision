{
 "cells": [
  {
   "cell_type": "code",
   "execution_count": 2,
   "metadata": {
    "colab": {
     "base_uri": "https://localhost:8080/",
     "height": 34
    },
    "colab_type": "code",
    "id": "UapETHKnzbyu",
    "outputId": "b9ca251b-43a8-4079-cd6f-4bd3b146c0d1"
   },
   "outputs": [],
   "source": [
    "import os\n",
    "import matplotlib.pyplot as plt\n",
    "import copy\n",
    "import time\n",
    "\n",
    "import torch\n",
    "from torch import nn\n",
    "from torch.utils.data import Dataset, DataLoader\n",
    "import torch.optim as optim\n",
    "from torch.optim import lr_scheduler\n",
    "from torchvision import transforms, utils\n",
    "from torchvision import datasets, models, transforms\n",
    "torch.__version__\n",
    "\n",
    "import pandas as pd\n",
    "import numpy as np\n",
    "from PIL import Image\n",
    "from skimage import io, transform"
   ]
  },
  {
   "cell_type": "code",
   "execution_count": 3,
   "metadata": {
    "colab": {
     "base_uri": "https://localhost:8080/",
     "height": 1000
    },
    "colab_type": "code",
    "id": "DFnDJJy3zi0L",
    "outputId": "5a6f7d2c-b824-4dbb-aeb5-d97dc34fdbd7"
   },
   "outputs": [],
   "source": [
    "device = \"cpu\"\n",
    "if torch.cuda.is_available():\n",
    "    device = \"cuda:0\"\n",
    "data = pd.read_csv('train/category_train.csv')"
   ]
  },
  {
   "cell_type": "code",
   "execution_count": 47,
   "metadata": {
    "colab": {},
    "colab_type": "code",
    "id": "fdg277zmzoUv"
   },
   "outputs": [],
   "source": [
    "Category = np.array(data.Category.unique())\n",
    "\n",
    "class Dataset_Category(Dataset):\n",
    "    def __init__(self, csv_file, transform=None):\n",
    "        self.df = pd.read_csv(csv_file)\n",
    "        self.transform = transform\n",
    "        self.category = Category\n",
    "\n",
    "    def __len__(self):\n",
    "        return 20\n",
    "\n",
    "    def __getitem__(self, idx):\n",
    "        if torch.is_tensor(idx):\n",
    "            idx = idx.tolist()\n",
    "            \n",
    "        path = \"Myauto_data/Car_Images/Car_Images{}\".format(self.df.iloc[idx].img_path)\n",
    "        image = transform.resize(io.imread(path), (224, 224))/255\n",
    "        image = image[:, :, :3]\n",
    "        \n",
    "        y = np.where(self.category == self.df.iloc[idx].Category)[0]\n",
    "        sample = (torch.Tensor(np.einsum('ijk->kij',image)), torch.Tensor(y).long())\n",
    "\n",
    "        return sample"
   ]
  },
  {
   "cell_type": "code",
   "execution_count": 48,
   "metadata": {
    "colab": {},
    "colab_type": "code",
    "id": "rFzmi1XZ0Ek7"
   },
   "outputs": [],
   "source": [
    "train = Dataset_Category('./train/category_train.csv', 'Myauto_data/Car_Images/Car_Images/')\n",
    "val = Dataset_Category('./test/category_test.csv', 'Myauto_data/Car_Images/Car_Images/')\n",
    "\n",
    "train_loader = DataLoader(train, batch_size=4,shuffle=True, num_workers=4)\n",
    "val_loader = DataLoader(val, batch_size=4,shuffle=True, num_workers=4)\n",
    "\n",
    "dataloaders = {'train': train_loader, 'val': val_loader}\n",
    "dataset_sizes = {'train': len(train_loader), 'val': len(val_loader)}"
   ]
  },
  {
   "cell_type": "code",
   "execution_count": 49,
   "metadata": {
    "colab": {},
    "colab_type": "code",
    "id": "hhDb6-3p0LZn"
   },
   "outputs": [],
   "source": [
    "class model_init(nn.Module):\n",
    "    def __init__(self):\n",
    "        super(model_init, self).__init__()\n",
    "        self.layers = nn.ModuleList()\n",
    "        self.layers.append(models.resnet18(pretrained=True))\n",
    "        self.layers.append(nn.Linear(1000, 512)) \n",
    "        self.layers.append(nn.Dropout(0.1))\n",
    "        self.layers.append(nn.Linear(512, 64))\n",
    "        self.layers.append(nn.Dropout(0.1))\n",
    "        self.layers.append(nn.Linear(64, 4))\n",
    "        self.layers.append(nn.Softmax())\n",
    "    \n",
    "    def forward(self, x):\n",
    "        for layer in self.layers:\n",
    "            x = layer(x)\n",
    "        return x"
   ]
  },
  {
   "cell_type": "code",
   "execution_count": 77,
   "metadata": {},
   "outputs": [],
   "source": [
    "def train_helper(category, model, optimization, judge, timeout):\n",
    "    if category == 'train':\n",
    "        model.train()\n",
    "    else:\n",
    "        model.eval()\n",
    "\n",
    "    loss_tmp = 0.0\n",
    "    correct_tmp = 0\n",
    "\n",
    "    for inputs, labels in dataloaders[category]:\n",
    "        inputs = inputs.to(device)\n",
    "        labels = labels.to(device)\n",
    "        labels = labels.reshape((labels.shape[0]))\n",
    "        optimization.zero_grad()\n",
    "\n",
    "        with torch.set_grad_enabled(category == 'train'):\n",
    "            outputs = model(inputs)\n",
    "            preds = torch.argmax(outputs, 1)\n",
    "            loss = judge(outputs, labels.reshape((-1,)))\n",
    "\n",
    "            if category == 'train':\n",
    "                loss.backward()\n",
    "                optimization.step()\n",
    "\n",
    "        # statistics\n",
    "        loss_tmp += loss.item() * inputs.size(0)\n",
    "        correct_tmp += torch.sum(preds == labels.data)\n",
    "    if category == 'train':\n",
    "        timeout.step()\n",
    "\n",
    "    epoch_loss = loss_tmp / dataset_sizes[category]\n",
    "    epoch_acc = correct_tmp.double() / dataset_sizes[category]\n",
    "\n",
    "    print('{} Loss: {:.4f} Accuracy: {:.4f}'.format(category, epoch_loss, epoch_acc/4))\n",
    "    \n",
    "    return epoch_acc, copy.deepcopy(model.state_dict())"
   ]
  },
  {
   "cell_type": "code",
   "execution_count": 78,
   "metadata": {
    "colab": {},
    "colab_type": "code",
    "id": "Pykv1ws90OyQ"
   },
   "outputs": [],
   "source": [
    "def train_model(model, judge, optimization, timeout, epochs=20):\n",
    "    best_model_wts = copy.deepcopy(model.state_dict())\n",
    "    best_accuracy = 0.0\n",
    "\n",
    "    for epoch in range(epochs):\n",
    "        print('Epoch {}/{}'.format(epoch + 1, epochs))\n",
    "        print('-----------------------------------------')\n",
    "        train_helper('train', model, optimization, judge, timeout)\n",
    "        accuracy_tmp, weight_tmp = train_helper('val', model, optimization, judge, timeout)\n",
    "        if accuracy_tmp > best_accuracy:\n",
    "            best_accuracy = accuracy_tmp\n",
    "            best_model_weights = weight_tmp\n",
    "\n",
    "        print()\n",
    "        \n",
    "    print('Best val Acc: {:4f}'.format(best_accuracy))\n",
    "\n",
    "    # load best model weights\n",
    "    model.load_state_dict(best_model_wts)\n",
    "    return model"
   ]
  },
  {
   "cell_type": "code",
   "execution_count": 79,
   "metadata": {
    "colab": {},
    "colab_type": "code",
    "id": "ZATitI550RtY"
   },
   "outputs": [],
   "source": [
    "criterion = nn.CrossEntropyLoss()\n",
    "model = model_init()\n",
    "model.to(device)\n",
    "\n",
    "optimizer = optim.SGD(model.parameters(), lr=0.005, momentum=0.9)\n",
    "exp_lr_scheduler = lr_scheduler.StepLR(optimizer, step_size=7, gamma=0.1)"
   ]
  },
  {
   "cell_type": "code",
   "execution_count": 80,
   "metadata": {
    "colab": {
     "base_uri": "https://localhost:8080/",
     "height": 89
    },
    "colab_type": "code",
    "id": "LjdCdLYv0U9d",
    "outputId": "b8238487-76aa-4796-bd90-413689292180"
   },
   "outputs": [
    {
     "name": "stdout",
     "output_type": "stream",
     "text": [
      "Epoch 1/4\n",
      "-----------------------------------------\n"
     ]
    },
    {
     "name": "stderr",
     "output_type": "stream",
     "text": [
      "/Users/andghuladze/Python/venv_3.7/lib/python3.7/site-packages/ipykernel_launcher.py:15: UserWarning: Implicit dimension choice for softmax has been deprecated. Change the call to include dim=X as an argument.\n",
      "  from ipykernel import kernelapp as app\n"
     ]
    },
    {
     "name": "stdout",
     "output_type": "stream",
     "text": [
      "train Loss: 5.6502 Accuracy: 0.1500\n",
      "val Loss: 5.3888 Accuracy: 0.4500\n",
      "\n",
      "Epoch 2/4\n",
      "-----------------------------------------\n",
      "train Loss: 4.7934 Accuracy: 0.6000\n",
      "val Loss: 5.2217 Accuracy: 0.4500\n",
      "\n",
      "Epoch 3/4\n",
      "-----------------------------------------\n",
      "train Loss: 4.0186 Accuracy: 0.8000\n",
      "val Loss: 5.1702 Accuracy: 0.4500\n",
      "\n",
      "Epoch 4/4\n",
      "-----------------------------------------\n",
      "train Loss: 3.7554 Accuracy: 0.8000\n",
      "val Loss: 5.5611 Accuracy: 0.2500\n",
      "\n",
      "Best val Acc: 1.800000\n"
     ]
    }
   ],
   "source": [
    "model = train_model(model, criterion, optimizer, exp_lr_scheduler, epochs=4)"
   ]
  },
  {
   "cell_type": "code",
   "execution_count": null,
   "metadata": {
    "colab": {},
    "colab_type": "code",
    "id": "-7qp_GEU1cAr",
    "scrolled": true
   },
   "outputs": [],
   "source": [
    "torch.save(model.state_dict(), 'models/category_model.pt')"
   ]
  },
  {
   "cell_type": "code",
   "execution_count": null,
   "metadata": {},
   "outputs": [],
   "source": []
  }
 ],
 "metadata": {
  "accelerator": "GPU",
  "colab": {
   "collapsed_sections": [],
   "name": "training_category.ipynb",
   "provenance": []
  },
  "kernelspec": {
   "display_name": "Python 3",
   "language": "python",
   "name": "python3"
  },
  "language_info": {
   "codemirror_mode": {
    "name": "ipython",
    "version": 3
   },
   "file_extension": ".py",
   "mimetype": "text/x-python",
   "name": "python",
   "nbconvert_exporter": "python",
   "pygments_lexer": "ipython3",
   "version": "3.7.3"
  }
 },
 "nbformat": 4,
 "nbformat_minor": 1
}
