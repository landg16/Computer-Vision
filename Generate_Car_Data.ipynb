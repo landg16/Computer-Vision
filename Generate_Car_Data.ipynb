{
 "cells": [
  {
   "cell_type": "code",
   "execution_count": 2,
   "metadata": {},
   "outputs": [],
   "source": [
    "import pandas as pd\n",
    "import tensorflow as tf\n",
    "import os\n",
    "import shutil "
   ]
  },
  {
   "cell_type": "markdown",
   "metadata": {},
   "source": [
    "### Generate image data and add path's to it."
   ]
  },
  {
   "cell_type": "code",
   "execution_count": 55,
   "metadata": {},
   "outputs": [],
   "source": [
    "car_data = pd.read_csv(\"car_data.csv\")\n",
    "img_data = pd.read_csv(\"img_data.csv\")"
   ]
  },
  {
   "cell_type": "code",
   "execution_count": 61,
   "metadata": {},
   "outputs": [],
   "source": [
    "car_data = car_data.drop_duplicates('ID')\n",
    "img_data = full_data.drop_duplicates('ID')\n",
    "\n",
    "merged = pd.merge(car_data, img_data, on='ID', how='left')"
   ]
  },
  {
   "cell_type": "code",
   "execution_count": 62,
   "metadata": {},
   "outputs": [],
   "source": [
    "def get_max_num(id):\n",
    "    try:\n",
    "        images = os.listdir(\"Myauto_data/Car_Images/Car_Images/{}\".format(id))\n",
    "    except:\n",
    "        return 0\n",
    "    return len(images)"
   ]
  },
  {
   "cell_type": "code",
   "execution_count": 63,
   "metadata": {},
   "outputs": [],
   "source": [
    "merged['ID'] = merged.ID.apply(int)\n",
    "merged['img_num'] = merged.ID.apply(get_max_num)"
   ]
  },
  {
   "cell_type": "code",
   "execution_count": 72,
   "metadata": {},
   "outputs": [],
   "source": [
    "img_data = pd.DataFrame({'ID':[], 'Price ($)':[], 'Levy ($)':[], 'Manufacturer':[], 'Model':[], 'Prod. year':[],\n",
    "       'Category':[], 'Leather interior':[], 'Fuel type':[], 'Engine volume':[], 'Mileage':[],\n",
    "       'Cylinders':[], 'Gear box type':[], 'Drive wheels':[], 'Doors':[], 'Wheel':[], 'Color':[],\n",
    "       'Interior color':[], 'Airbags':[], 'VIN':[], 'img_index':[], 'img_path':[]})"
   ]
  },
  {
   "cell_type": "code",
   "execution_count": 73,
   "metadata": {},
   "outputs": [],
   "source": [
    "tmp_list = {'ID':[], 'Price ($)':[], 'Levy ($)':[], 'Manufacturer':[], 'Model':[], 'Prod. year':[],\n",
    "       'Category':[], 'Leather interior':[], 'Fuel type':[], 'Engine volume':[], 'Mileage':[],\n",
    "       'Cylinders':[], 'Gear box type':[], 'Drive wheels':[], 'Doors':[], 'Wheel':[], 'Color':[],\n",
    "       'Interior color':[], 'Airbags':[], 'VIN':[], 'img_index':[], 'img_path':[]}"
   ]
  },
  {
   "cell_type": "code",
   "execution_count": 74,
   "metadata": {},
   "outputs": [],
   "source": [
    "for i in merged.index:\n",
    "    curr_row = merged.iloc[i]\n",
    "    try:\n",
    "        ls = [int(x) for x in curr_row.images.split('_')]\n",
    "    except:\n",
    "        try:\n",
    "            ls = int(curr_row.images)\n",
    "        except:\n",
    "            continue\n",
    "    for j in range(1, curr_row.img_num+1):\n",
    "        for col in merged.columns[1:-2]:\n",
    "            tmp_list[col].append(curr_row[col])\n",
    "        tmp_list['ID'].append(str(curr_row['ID']))\n",
    "        tmp_list['img_index'].append(str(j))\n",
    "        tmp_list['img_path'].append('/' + str(curr_row.ID) + '/' + str(j) + '.jpg')\n",
    "\n",
    "img_data = pd.DataFrame(tmp_list)"
   ]
  },
  {
   "cell_type": "code",
   "execution_count": 75,
   "metadata": {},
   "outputs": [],
   "source": [
    "img_data.to_csv('generated/car_image_data.csv', index = False)"
   ]
  },
  {
   "cell_type": "markdown",
   "metadata": {},
   "source": [
    "#### NOTE: is_car generated from vehicle_counting_tensorflow repo"
   ]
  },
  {
   "cell_type": "markdown",
   "metadata": {},
   "source": [
    "### Generate Doors Data (35K)"
   ]
  },
  {
   "cell_type": "code",
   "execution_count": 118,
   "metadata": {},
   "outputs": [],
   "source": [
    "df = pd.read_csv(\"generated/whole_data.csv\")"
   ]
  },
  {
   "cell_type": "code",
   "execution_count": 119,
   "metadata": {},
   "outputs": [],
   "source": [
    "cars_only = df[df[\"is_car\"] == 1].sample(frac = 1)"
   ]
  },
  {
   "cell_type": "code",
   "execution_count": 120,
   "metadata": {
    "scrolled": true
   },
   "outputs": [
    {
     "data": {
      "text/plain": [
       "Doors\n",
       "2/3      9356\n",
       "4/5    270968\n",
       ">5       1286\n",
       "dtype: int64"
      ]
     },
     "execution_count": 120,
     "metadata": {},
     "output_type": "execute_result"
    }
   ],
   "source": [
    "cars_only.groupby(\"Doors\").size()"
   ]
  },
  {
   "cell_type": "code",
   "execution_count": 121,
   "metadata": {},
   "outputs": [],
   "source": [
    "def select_column(df, column, condition):\n",
    "    return df[df[column] == condition]"
   ]
  },
  {
   "cell_type": "code",
   "execution_count": 122,
   "metadata": {},
   "outputs": [],
   "source": [
    "two_three = select_column(cars_only, \"Doors\", \"2/3\")[:9350]\n",
    "four_five = select_column(cars_only, \"Doors\", \"4/5\")[:24400]\n",
    "more_five = select_column(cars_only, \"Doors\", \">5\")[:1250]"
   ]
  },
  {
   "cell_type": "code",
   "execution_count": 123,
   "metadata": {},
   "outputs": [],
   "source": [
    "doors_data = pd.concat([two_three, four_five, more_five]).sample(frac = 1)\n",
    "doors_data = final[[\"ID\", \"Doors\", \"img_path\"]]"
   ]
  },
  {
   "cell_type": "code",
   "execution_count": 124,
   "metadata": {},
   "outputs": [],
   "source": [
    "doors_data.to_csv('generated/doors_data.csv', index = False)"
   ]
  },
  {
   "cell_type": "markdown",
   "metadata": {},
   "source": [
    "### Generate Colors Data (105K)"
   ]
  },
  {
   "cell_type": "code",
   "execution_count": 125,
   "metadata": {
    "scrolled": false
   },
   "outputs": [
    {
     "data": {
      "text/plain": [
       "Color\n",
       "Beige             1946\n",
       "Black            73758\n",
       "Blue             21538\n",
       "Brown             3583\n",
       "Carnelian red     2145\n",
       "Golden            1529\n",
       "Green             4698\n",
       "Grey             38408\n",
       "Orange            1292\n",
       "Pink               269\n",
       "Purple             353\n",
       "Red               9432\n",
       "Silver           52951\n",
       "Sky blue          1518\n",
       "White            67139\n",
       "Yellow             947\n",
       "dtype: int64"
      ]
     },
     "execution_count": 125,
     "metadata": {},
     "output_type": "execute_result"
    }
   ],
   "source": [
    "cars_only.groupby(\"Color\").size()"
   ]
  },
  {
   "cell_type": "code",
   "execution_count": 126,
   "metadata": {},
   "outputs": [],
   "source": [
    "black = select_column(cars_only, \"Color\", \"Black\")[:29100]\n",
    "white = select_column(cars_only, \"Color\", \"White\")[:24900]\n",
    "silver = select_column(cars_only, \"Color\", \"Silver\")[:19500]\n",
    "grey = select_column(cars_only, \"Color\", \"Grey\")[:15000]\n",
    "blue = select_column(cars_only, \"Color\", \"Blue\")[:10500]\n",
    "red = select_column(cars_only, \"Color\", \"Red\")[:3900]\n",
    "green = select_column(cars_only, \"Color\", \"Green\")[:2100]"
   ]
  },
  {
   "cell_type": "code",
   "execution_count": 127,
   "metadata": {},
   "outputs": [],
   "source": [
    "color_data = pd.concat([black, white, silver, grey, blue, red, green]).sample(frac = 1)"
   ]
  },
  {
   "cell_type": "code",
   "execution_count": 128,
   "metadata": {},
   "outputs": [],
   "source": [
    "color_data = color_data[['ID', 'Color', 'img_path']].sample(frac = 1)"
   ]
  },
  {
   "cell_type": "code",
   "execution_count": 129,
   "metadata": {},
   "outputs": [
    {
     "data": {
      "text/plain": [
       "105000"
      ]
     },
     "execution_count": 129,
     "metadata": {},
     "output_type": "execute_result"
    }
   ],
   "source": [
    "color_data.groupby(\"Color\").size().sum()"
   ]
  },
  {
   "cell_type": "code",
   "execution_count": 130,
   "metadata": {},
   "outputs": [],
   "source": [
    "color_data.to_csv('color_data.csv', index = False)"
   ]
  },
  {
   "cell_type": "markdown",
   "metadata": {},
   "source": [
    "### Generate Category Data (50K)"
   ]
  },
  {
   "cell_type": "code",
   "execution_count": 131,
   "metadata": {},
   "outputs": [
    {
     "data": {
      "text/plain": [
       "Category\n",
       "Cabriolet         690\n",
       "Coupe            7692\n",
       "Goods wagon      1664\n",
       "Hatchback       40778\n",
       "Jeep            99430\n",
       "Limousine          55\n",
       "Microbus         1104\n",
       "Minivan          5668\n",
       "Pickup            515\n",
       "Sedan          125635\n",
       "Universal        3236\n",
       "dtype: int64"
      ]
     },
     "execution_count": 131,
     "metadata": {},
     "output_type": "execute_result"
    }
   ],
   "source": [
    "cars_only.groupby('Category').size()"
   ]
  },
  {
   "cell_type": "code",
   "execution_count": 132,
   "metadata": {},
   "outputs": [],
   "source": [
    "sedan = select_column(cars_only, \"Category\", \"Sedan\")[:20000]\n",
    "jeep = select_column(cars_only, \"Category\", \"Jeep\")[:15000]\n",
    "hatchback = select_column(cars_only, \"Category\", \"Hatchback\")[:10000]\n",
    "coupe = select_column(cars_only, \"Category\", \"Coupe\")[:5000]"
   ]
  },
  {
   "cell_type": "code",
   "execution_count": 133,
   "metadata": {},
   "outputs": [],
   "source": [
    "category_data = pd.concat([sedan, jeep, hatchback, coupe]).sample(frac = 1)"
   ]
  },
  {
   "cell_type": "code",
   "execution_count": 134,
   "metadata": {},
   "outputs": [],
   "source": [
    "category_data = category_data[[\"ID\", \"Category\", \"img_path\"]]"
   ]
  },
  {
   "cell_type": "code",
   "execution_count": 135,
   "metadata": {},
   "outputs": [],
   "source": [
    "category_data.to_csv('generated/category_data.csv', index = False)"
   ]
  },
  {
   "cell_type": "markdown",
   "metadata": {},
   "source": [
    "# Split into Test and Train"
   ]
  },
  {
   "cell_type": "code",
   "execution_count": 141,
   "metadata": {},
   "outputs": [],
   "source": [
    "doors_data = doors_data.sample(frac = 1)\n",
    "test_size = int(len(doors_data)*2/10)\n",
    "doors_test_data = doors_data[:test_size]\n",
    "doors_train_data = doors_data[test_size:]\n",
    "doors_test_data.to_csv('test/doors_test.csv', index = False)\n",
    "doors_train_data.to_csv('train/doors_train.csv', index = False)"
   ]
  },
  {
   "cell_type": "code",
   "execution_count": 142,
   "metadata": {},
   "outputs": [],
   "source": [
    "color_data = color_data.sample(frac = 1)\n",
    "test_size = int(len(color_data)*1/10)\n",
    "color_test_data = color_data[:test_size]\n",
    "color_train_data = color_data[test_size:]\n",
    "color_test_data.to_csv('test/color_test.csv', index = False)\n",
    "color_train_data.to_csv('train/color_train.csv', index = False)"
   ]
  },
  {
   "cell_type": "code",
   "execution_count": 1,
   "metadata": {
    "collapsed": true
   },
   "outputs": [
    {
     "ename": "NameError",
     "evalue": "name 'category_data' is not defined",
     "output_type": "error",
     "traceback": [
      "\u001b[0;31m---------------------------------------------------------------------------\u001b[0m",
      "\u001b[0;31mNameError\u001b[0m                                 Traceback (most recent call last)",
      "\u001b[0;32m<ipython-input-1-7ac2e84bbff3>\u001b[0m in \u001b[0;36m<module>\u001b[0;34m\u001b[0m\n\u001b[0;32m----> 1\u001b[0;31m \u001b[0mcategory_data\u001b[0m \u001b[0;34m=\u001b[0m \u001b[0mcategory_data\u001b[0m\u001b[0;34m.\u001b[0m\u001b[0msample\u001b[0m\u001b[0;34m(\u001b[0m\u001b[0mfrac\u001b[0m \u001b[0;34m=\u001b[0m \u001b[0;36m1\u001b[0m\u001b[0;34m)\u001b[0m\u001b[0;34m\u001b[0m\u001b[0;34m\u001b[0m\u001b[0m\n\u001b[0m\u001b[1;32m      2\u001b[0m \u001b[0mtest_size\u001b[0m \u001b[0;34m=\u001b[0m \u001b[0mint\u001b[0m\u001b[0;34m(\u001b[0m\u001b[0mlen\u001b[0m\u001b[0;34m(\u001b[0m\u001b[0mcategory_data\u001b[0m\u001b[0;34m)\u001b[0m\u001b[0;34m*\u001b[0m\u001b[0;36m1\u001b[0m\u001b[0;34m/\u001b[0m\u001b[0;36m10\u001b[0m\u001b[0;34m)\u001b[0m\u001b[0;34m\u001b[0m\u001b[0;34m\u001b[0m\u001b[0m\n\u001b[1;32m      3\u001b[0m \u001b[0mcategory_test_data\u001b[0m \u001b[0;34m=\u001b[0m \u001b[0mcategory_data\u001b[0m\u001b[0;34m[\u001b[0m\u001b[0;34m:\u001b[0m\u001b[0mtest_size\u001b[0m\u001b[0;34m]\u001b[0m\u001b[0;34m\u001b[0m\u001b[0;34m\u001b[0m\u001b[0m\n\u001b[1;32m      4\u001b[0m \u001b[0mcategory_train_data\u001b[0m \u001b[0;34m=\u001b[0m \u001b[0mcategory_data\u001b[0m\u001b[0;34m[\u001b[0m\u001b[0mtest_size\u001b[0m\u001b[0;34m:\u001b[0m\u001b[0;34m]\u001b[0m\u001b[0;34m\u001b[0m\u001b[0;34m\u001b[0m\u001b[0m\n\u001b[1;32m      5\u001b[0m \u001b[0mcategory_test_data\u001b[0m\u001b[0;34m.\u001b[0m\u001b[0mto_csv\u001b[0m\u001b[0;34m(\u001b[0m\u001b[0;34m'test/category_test.csv'\u001b[0m\u001b[0;34m,\u001b[0m \u001b[0mindex\u001b[0m \u001b[0;34m=\u001b[0m \u001b[0;32mFalse\u001b[0m\u001b[0;34m)\u001b[0m\u001b[0;34m\u001b[0m\u001b[0;34m\u001b[0m\u001b[0m\n",
      "\u001b[0;31mNameError\u001b[0m: name 'category_data' is not defined"
     ]
    }
   ],
   "source": [
    "category_data = category_data.sample(frac = 1)\n",
    "test_size = int(len(category_data)*1/10)\n",
    "category_test_data = category_data[:test_size]\n",
    "category_train_data = category_data[test_size:]\n",
    "category_test_data.to_csv('test/category_test.csv', index = False)\n",
    "category_train_data.to_csv('train/category_train.csv', index = False)"
   ]
  },
  {
   "cell_type": "markdown",
   "metadata": {},
   "source": [
    "### Create image folders"
   ]
  },
  {
   "cell_type": "code",
   "execution_count": 17,
   "metadata": {},
   "outputs": [],
   "source": [
    "os.mkdir(\"category_imgs\")\n",
    "os.mkdir(\"color_imgs\")\n",
    "os.mkdir(\"doors_imgs\")"
   ]
  },
  {
   "cell_type": "markdown",
   "metadata": {},
   "source": [
    "#### Create Category Data"
   ]
  },
  {
   "cell_type": "code",
   "execution_count": 18,
   "metadata": {},
   "outputs": [],
   "source": [
    "category_data = pd.read_csv(\"train/category_train.csv\")\n",
    "for i in category_data.index:\n",
    "    src_dir = \"Myauto_data/Car_Images/Car_Images{}\".format(category_data[\"img_path\"][i])\n",
    "    img = category_data[\"img_path\"][i][1:].replace('/', \"-\")\n",
    "    dst_dir = \"category_imgs/{}\".format(img)\n",
    "    shutil.copy(src_dir, dst_dir)"
   ]
  },
  {
   "cell_type": "code",
   "execution_count": 19,
   "metadata": {},
   "outputs": [],
   "source": [
    "category_data_test = pd.read_csv(\"test/category_test.csv\")\n",
    "for i in category_data_test.index:\n",
    "    src_dir = \"Myauto_data/Car_Images/Car_Images{}\".format(category_data_test[\"img_path\"][i])\n",
    "    img = category_data_test[\"img_path\"][i][1:].replace('/', \"-\")\n",
    "    dst_dir = \"category_imgs/{}\".format(img)\n",
    "    shutil.copy(src_dir, dst_dir)"
   ]
  },
  {
   "cell_type": "markdown",
   "metadata": {},
   "source": [
    "#### Create Colors Data"
   ]
  },
  {
   "cell_type": "code",
   "execution_count": 21,
   "metadata": {},
   "outputs": [],
   "source": [
    "color_data = pd.read_csv(\"train/color_train.csv\")\n",
    "for i in color_data.index:\n",
    "    src_dir = \"Myauto_data/Car_Images/Car_Images{}\".format(color_data[\"img_path\"][i])\n",
    "    img = color_data[\"img_path\"][i][1:].replace('/', \"-\")\n",
    "    dst_dir = \"color_imgs/{}\".format(img)\n",
    "    shutil.copy(src_dir, dst_dir)"
   ]
  },
  {
   "cell_type": "code",
   "execution_count": 22,
   "metadata": {},
   "outputs": [],
   "source": [
    "color_data_test = pd.read_csv(\"test/color_test.csv\")\n",
    "for i in color_data_test.index:\n",
    "    src_dir = \"Myauto_data/Car_Images/Car_Images{}\".format(color_data_test[\"img_path\"][i])\n",
    "    img = color_data_test[\"img_path\"][i][1:].replace('/', \"-\")\n",
    "    dst_dir = \"color_imgs/{}\".format(img)\n",
    "    shutil.copy(src_dir, dst_dir)"
   ]
  },
  {
   "cell_type": "markdown",
   "metadata": {},
   "source": [
    "#### Create Doors Data"
   ]
  },
  {
   "cell_type": "code",
   "execution_count": 24,
   "metadata": {},
   "outputs": [],
   "source": [
    "doors_data = pd.read_csv(\"train/doors_train.csv\")\n",
    "for i in doors_data.index:\n",
    "    src_dir = \"Myauto_data/Car_Images/Car_Images{}\".format(doors_data[\"img_path\"][i])\n",
    "    img = doors_data[\"img_path\"][i][1:].replace('/', \"-\")\n",
    "    dst_dir = \"doors_imgs/{}\".format(img)\n",
    "    shutil.copy(src_dir, dst_dir)"
   ]
  },
  {
   "cell_type": "code",
   "execution_count": 26,
   "metadata": {},
   "outputs": [],
   "source": [
    "doors_data_test = pd.read_csv(\"test/doors_test.csv\")\n",
    "for i in doors_data_test.index:\n",
    "    src_dir = \"Myauto_data/Car_Images/Car_Images{}\".format(doors_data_test[\"img_path\"][i])\n",
    "    img = doors_data_test[\"img_path\"][i][1:].replace('/', \"-\")\n",
    "    dst_dir = \"doors_imgs/{}\".format(img)\n",
    "    shutil.copy(src_dir, dst_dir)"
   ]
  },
  {
   "cell_type": "code",
   "execution_count": null,
   "metadata": {},
   "outputs": [],
   "source": []
  }
 ],
 "metadata": {
  "kernelspec": {
   "display_name": "Python 3",
   "language": "python",
   "name": "python3"
  },
  "language_info": {
   "codemirror_mode": {
    "name": "ipython",
    "version": 3
   },
   "file_extension": ".py",
   "mimetype": "text/x-python",
   "name": "python",
   "nbconvert_exporter": "python",
   "pygments_lexer": "ipython3",
   "version": "3.7.3"
  }
 },
 "nbformat": 4,
 "nbformat_minor": 4
}
